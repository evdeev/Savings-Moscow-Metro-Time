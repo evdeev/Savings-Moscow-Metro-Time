{
 "cells": [
  {
   "cell_type": "code",
   "execution_count": 333,
   "id": "finnish-milwaukee",
   "metadata": {},
   "outputs": [],
   "source": [
    "import requests\n",
    "from bs4 import BeautifulSoup\n",
    "import re\n",
    "import pandas as pd\n",
    "import datetime"
   ]
  },
  {
   "cell_type": "code",
   "execution_count": 325,
   "id": "974cc089-0c6d-4681-ace4-07a275ae226c",
   "metadata": {},
   "outputs": [],
   "source": [
    "def get_stations(url):\n",
    "    response = requests.get(url)\n",
    "    webpage = BeautifulSoup(response.content, 'lxml')\n",
    "    html = webpage.find_all('div', class_='stName')\n",
    "    stations = {}\n",
    "    for tags in html:\n",
    "        station_id = tags.find('span', class_='stName').get('mb_sd_id')\n",
    "        station_name = tags.find('span', class_='stName').get_text()\n",
    "        stations[station_id] = re.sub(r'\\n', ' ', station_name)\n",
    "    return stations\n",
    "\n",
    "def get_key(dictionary, value):\n",
    "    key = [k for k, v in dictionary.items() if v == value][0]\n",
    "    return key\n",
    "\n",
    "def get_data_key(from_station_id, to_station_id):\n",
    "    table = requests.post('https://metrobook.ru/kcmsajax.php',\n",
    "                          data={\n",
    "                              'mod': 'metrobook',\n",
    "                              'oper': 'getShortestPath',\n",
    "                              'sdid1': from_station_id,\n",
    "                              'sdid2': to_station_id,\n",
    "                              'mid': '2',\n",
    "                              'whatToMinimize': '0'\n",
    "                          }).json()\n",
    "    \n",
    "    from_station_name = stations.get(from_station_id)\n",
    "    to_station_name = stations.get(to_station_id)\n",
    "    transit_time = datetime.timedelta(seconds=table['table']['transitTime'])\n",
    "    total_time = datetime.timedelta(seconds=table['table']['totalTime'])\n",
    "    data_key = [from_station_name, to_station_name, total_time]\n",
    "    return data_key"
   ]
  },
  {
   "cell_type": "code",
   "execution_count": 330,
   "id": "d0a73b2f-96aa-41fc-8369-4fd7da52ef44",
   "metadata": {},
   "outputs": [],
   "source": [
    "raw_data = []\n",
    "from_station = 'Кутузовская'\n",
    "to_station = 'Тульская'\n",
    "limit_minutes = False\n",
    "\n",
    "FILENAME = 'data.csv'\n",
    "\n",
    "stations = get_stations('https://metrobook.ru')\n",
    "from_station_id = get_key(stations, from_station)\n",
    "limit_time = [datetime.timedelta(minutes = limit_minutes)]\n",
    "stations_list = list(stations.keys())\n",
    "\n",
    "if not to_station:\n",
    "    for st_id in stations_list:\n",
    "        to_station_id = str(st_id)\n",
    "        \n",
    "        if from_station_id != to_station_id:\n",
    "            data_key = get_data_key(from_station_id, to_station_id)\n",
    "            raw_data.append(data_key)\n",
    "else:\n",
    "    to_station_id = get_key(stations, to_station)\n",
    "    data_key = get_data_key(from_station_id, to_station_id)\n",
    "    raw_data.append(data_key)\n",
    "\n",
    "if limit_minutes != False:\n",
    "    limit_time = datetime.timedelta(minutes = limit_minutes)\n",
    "    data = [x for x in raw_data if x[-1] <= limit_time]\n",
    "else:\n",
    "    data = raw_data"
   ]
  },
  {
   "cell_type": "code",
   "execution_count": 331,
   "id": "00a5e5f6-7ef9-43c7-abec-20f517fd14dc",
   "metadata": {},
   "outputs": [],
   "source": [
    "data = pd.DataFrame(data, columns=['FROM_STATION', 'TO_STATION', 'TOTAL_TIME'])"
   ]
  },
  {
   "cell_type": "code",
   "execution_count": 332,
   "id": "6c88a758-3d86-4186-bb80-48cc24de5b0a",
   "metadata": {},
   "outputs": [
    {
     "data": {
      "text/html": [
       "<div>\n",
       "<style scoped>\n",
       "    .dataframe tbody tr th:only-of-type {\n",
       "        vertical-align: middle;\n",
       "    }\n",
       "\n",
       "    .dataframe tbody tr th {\n",
       "        vertical-align: top;\n",
       "    }\n",
       "\n",
       "    .dataframe thead th {\n",
       "        text-align: right;\n",
       "    }\n",
       "</style>\n",
       "<table border=\"1\" class=\"dataframe\">\n",
       "  <thead>\n",
       "    <tr style=\"text-align: right;\">\n",
       "      <th></th>\n",
       "      <th>FROM_STATION</th>\n",
       "      <th>TO_STATION</th>\n",
       "      <th>TOTAL_TIME</th>\n",
       "    </tr>\n",
       "  </thead>\n",
       "  <tbody>\n",
       "    <tr>\n",
       "      <th>0</th>\n",
       "      <td>Кутузовская</td>\n",
       "      <td>Тульская</td>\n",
       "      <td>0 days 00:21:00</td>\n",
       "    </tr>\n",
       "  </tbody>\n",
       "</table>\n",
       "</div>"
      ],
      "text/plain": [
       "  FROM_STATION TO_STATION      TOTAL_TIME\n",
       "0  Кутузовская   Тульская 0 days 00:21:00"
      ]
     },
     "execution_count": 332,
     "metadata": {},
     "output_type": "execute_result"
    }
   ],
   "source": [
    "data"
   ]
  },
  {
   "cell_type": "code",
   "execution_count": 329,
   "id": "9124df7f-2b64-418d-bbca-948f8f0db4f7",
   "metadata": {},
   "outputs": [],
   "source": [
    "data.to_csv(FILENAME, index=False, encoding='utf-8')"
   ]
  }
 ],
 "metadata": {
  "kernelspec": {
   "display_name": "Python 3",
   "language": "python",
   "name": "python3"
  },
  "language_info": {
   "codemirror_mode": {
    "name": "ipython",
    "version": 3
   },
   "file_extension": ".py",
   "mimetype": "text/x-python",
   "name": "python",
   "nbconvert_exporter": "python",
   "pygments_lexer": "ipython3",
   "version": "3.9.1"
  }
 },
 "nbformat": 4,
 "nbformat_minor": 5
}
